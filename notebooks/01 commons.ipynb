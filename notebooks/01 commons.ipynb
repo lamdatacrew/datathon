{
 "cells": [
  {
   "cell_type": "markdown",
   "metadata": {},
   "source": [
    "### lam data crew"
   ]
  },
  {
   "cell_type": "code",
   "execution_count": 1,
   "metadata": {},
   "outputs": [
    {
     "name": "stdout",
     "output_type": "stream",
     "text": [
      "Collecting google-cloud-bigquery[pandas]\n",
      "\u001b[?25l  Downloading https://files.pythonhosted.org/packages/89/1d/145b045a6bf8b3d1216f68b4ee55fe4932c24c2ee86c0dab971071dae6c5/google_cloud_bigquery-1.20.0-py2.py3-none-any.whl (154kB)\n",
      "\u001b[K     |████████████████████████████████| 163kB 38.4MB/s \n",
      "\u001b[?25hCollecting google-cloud-core<2.0dev,>=1.0.3 (from google-cloud-bigquery[pandas])\n",
      "  Downloading https://files.pythonhosted.org/packages/ee/f0/084f598629db8e6ec3627688723875cdb03637acb6d86999bb105a71df64/google_cloud_core-1.0.3-py2.py3-none-any.whl\n",
      "Requirement already satisfied, skipping upgrade: protobuf>=3.6.0 in /opt/conda/anaconda/lib/python3.6/site-packages (from google-cloud-bigquery[pandas]) (3.9.1)\n",
      "Requirement already satisfied, skipping upgrade: google-resumable-media>=0.3.1 in /opt/conda/anaconda/lib/python3.6/site-packages (from google-cloud-bigquery[pandas]) (0.3.2)\n",
      "Requirement already satisfied, skipping upgrade: pandas>=0.17.1; extra == \"pandas\" in /opt/conda/anaconda/lib/python3.6/site-packages (from google-cloud-bigquery[pandas]) (0.25.0)\n",
      "Requirement already satisfied, skipping upgrade: google-api-core<2.0.0dev,>=1.14.0 in /opt/conda/anaconda/lib/python3.6/site-packages (from google-cloud-core<2.0dev,>=1.0.3->google-cloud-bigquery[pandas]) (1.14.2)\n",
      "Requirement already satisfied, skipping upgrade: setuptools in /opt/conda/anaconda/lib/python3.6/site-packages (from protobuf>=3.6.0->google-cloud-bigquery[pandas]) (41.0.1)\n",
      "Requirement already satisfied, skipping upgrade: six>=1.9 in /opt/conda/anaconda/lib/python3.6/site-packages (from protobuf>=3.6.0->google-cloud-bigquery[pandas]) (1.12.0)\n",
      "Requirement already satisfied, skipping upgrade: pytz>=2017.2 in /opt/conda/anaconda/lib/python3.6/site-packages (from pandas>=0.17.1; extra == \"pandas\"->google-cloud-bigquery[pandas]) (2019.2)\n",
      "Requirement already satisfied, skipping upgrade: python-dateutil>=2.6.1 in /opt/conda/anaconda/lib/python3.6/site-packages (from pandas>=0.17.1; extra == \"pandas\"->google-cloud-bigquery[pandas]) (2.8.0)\n",
      "Requirement already satisfied, skipping upgrade: numpy>=1.13.3 in /opt/conda/anaconda/lib/python3.6/site-packages (from pandas>=0.17.1; extra == \"pandas\"->google-cloud-bigquery[pandas]) (1.16.4)\n",
      "Requirement already satisfied, skipping upgrade: google-auth<2.0dev,>=0.4.0 in /opt/conda/anaconda/lib/python3.6/site-packages (from google-api-core<2.0.0dev,>=1.14.0->google-cloud-core<2.0dev,>=1.0.3->google-cloud-bigquery[pandas]) (1.6.3)\n",
      "Requirement already satisfied, skipping upgrade: googleapis-common-protos<2.0dev,>=1.6.0 in /opt/conda/anaconda/lib/python3.6/site-packages (from google-api-core<2.0.0dev,>=1.14.0->google-cloud-core<2.0dev,>=1.0.3->google-cloud-bigquery[pandas]) (1.6.0)\n",
      "Requirement already satisfied, skipping upgrade: requests<3.0.0dev,>=2.18.0 in /opt/conda/anaconda/lib/python3.6/site-packages (from google-api-core<2.0.0dev,>=1.14.0->google-cloud-core<2.0dev,>=1.0.3->google-cloud-bigquery[pandas]) (2.22.0)\n",
      "Requirement already satisfied, skipping upgrade: cachetools>=2.0.0 in /opt/conda/anaconda/lib/python3.6/site-packages (from google-auth<2.0dev,>=0.4.0->google-api-core<2.0.0dev,>=1.14.0->google-cloud-core<2.0dev,>=1.0.3->google-cloud-bigquery[pandas]) (3.1.1)\n",
      "Requirement already satisfied, skipping upgrade: rsa>=3.1.4 in /opt/conda/anaconda/lib/python3.6/site-packages (from google-auth<2.0dev,>=0.4.0->google-api-core<2.0.0dev,>=1.14.0->google-cloud-core<2.0dev,>=1.0.3->google-cloud-bigquery[pandas]) (4.0)\n",
      "Requirement already satisfied, skipping upgrade: pyasn1-modules>=0.2.1 in /opt/conda/anaconda/lib/python3.6/site-packages (from google-auth<2.0dev,>=0.4.0->google-api-core<2.0.0dev,>=1.14.0->google-cloud-core<2.0dev,>=1.0.3->google-cloud-bigquery[pandas]) (0.2.6)\n",
      "Requirement already satisfied, skipping upgrade: chardet<3.1.0,>=3.0.2 in /opt/conda/anaconda/lib/python3.6/site-packages (from requests<3.0.0dev,>=2.18.0->google-api-core<2.0.0dev,>=1.14.0->google-cloud-core<2.0dev,>=1.0.3->google-cloud-bigquery[pandas]) (3.0.4)\n",
      "Requirement already satisfied, skipping upgrade: urllib3!=1.25.0,!=1.25.1,<1.26,>=1.21.1 in /opt/conda/anaconda/lib/python3.6/site-packages (from requests<3.0.0dev,>=2.18.0->google-api-core<2.0.0dev,>=1.14.0->google-cloud-core<2.0dev,>=1.0.3->google-cloud-bigquery[pandas]) (1.24.2)\n",
      "Requirement already satisfied, skipping upgrade: certifi>=2017.4.17 in /opt/conda/anaconda/lib/python3.6/site-packages (from requests<3.0.0dev,>=2.18.0->google-api-core<2.0.0dev,>=1.14.0->google-cloud-core<2.0dev,>=1.0.3->google-cloud-bigquery[pandas]) (2019.6.16)\n",
      "Requirement already satisfied, skipping upgrade: idna<2.9,>=2.5 in /opt/conda/anaconda/lib/python3.6/site-packages (from requests<3.0.0dev,>=2.18.0->google-api-core<2.0.0dev,>=1.14.0->google-cloud-core<2.0dev,>=1.0.3->google-cloud-bigquery[pandas]) (2.8)\n",
      "Requirement already satisfied, skipping upgrade: pyasn1>=0.1.3 in /opt/conda/anaconda/lib/python3.6/site-packages (from rsa>=3.1.4->google-auth<2.0dev,>=0.4.0->google-api-core<2.0.0dev,>=1.14.0->google-cloud-core<2.0dev,>=1.0.3->google-cloud-bigquery[pandas]) (0.4.6)\n",
      "\u001b[31mERROR: google-cloud-storage 1.10.0 has requirement google-cloud-core<0.29dev,>=0.28.0, but you'll have google-cloud-core 1.0.3 which is incompatible.\u001b[0m\n",
      "Installing collected packages: google-cloud-core, google-cloud-bigquery\n",
      "  Found existing installation: google-cloud-core 0.28.1\n",
      "    Uninstalling google-cloud-core-0.28.1:\n",
      "      Successfully uninstalled google-cloud-core-0.28.1\n",
      "Successfully installed google-cloud-bigquery-1.20.0 google-cloud-core-1.0.3\n",
      "Note: you may need to restart the kernel to use updated packages.\n"
     ]
    }
   ],
   "source": [
    "pip install --upgrade google-cloud-bigquery[pandas]"
   ]
  },
  {
   "cell_type": "code",
   "execution_count": 2,
   "metadata": {},
   "outputs": [],
   "source": [
    "%load_ext google.cloud.bigquery"
   ]
  },
  {
   "cell_type": "code",
   "execution_count": 5,
   "metadata": {},
   "outputs": [
    {
     "name": "stdout",
     "output_type": "stream",
     "text": [
      "Collecting pandas_gbq\n",
      "  Downloading https://files.pythonhosted.org/packages/b6/08/5a0058daf326ba03de911e3a3271c36ee9bb8c81568e4f003a86aba3b6e8/pandas_gbq-0.11.0-py3-none-any.whl\n",
      "Requirement already satisfied: google-auth in /opt/conda/anaconda/lib/python3.6/site-packages (from pandas_gbq) (1.6.3)\n",
      "Requirement already satisfied: setuptools in /opt/conda/anaconda/lib/python3.6/site-packages (from pandas_gbq) (41.0.1)\n",
      "Collecting pydata-google-auth (from pandas_gbq)\n",
      "  Downloading https://files.pythonhosted.org/packages/89/c5/03b68c114bc2c2bcaa2e40fdf269a14361fa75b70a09415e8bad65413b75/pydata_google_auth-0.1.3-py2.py3-none-any.whl\n",
      "Requirement already satisfied: google-cloud-bigquery>=1.9.0 in /opt/conda/anaconda/lib/python3.6/site-packages (from pandas_gbq) (1.20.0)\n",
      "Collecting google-auth-oauthlib (from pandas_gbq)\n",
      "  Downloading https://files.pythonhosted.org/packages/74/a2/1323b1bce9935ac948cd4863509de16cf852cd80b12dd29e648c65fea93d/google_auth_oauthlib-0.4.0-py2.py3-none-any.whl\n",
      "Requirement already satisfied: pandas>=0.19.0 in /opt/conda/anaconda/lib/python3.6/site-packages (from pandas_gbq) (0.25.0)\n",
      "Requirement already satisfied: cachetools>=2.0.0 in /opt/conda/anaconda/lib/python3.6/site-packages (from google-auth->pandas_gbq) (3.1.1)\n",
      "Requirement already satisfied: rsa>=3.1.4 in /opt/conda/anaconda/lib/python3.6/site-packages (from google-auth->pandas_gbq) (4.0)\n",
      "Requirement already satisfied: six>=1.9.0 in /opt/conda/anaconda/lib/python3.6/site-packages (from google-auth->pandas_gbq) (1.12.0)\n",
      "Requirement already satisfied: pyasn1-modules>=0.2.1 in /opt/conda/anaconda/lib/python3.6/site-packages (from google-auth->pandas_gbq) (0.2.6)\n",
      "Requirement already satisfied: google-cloud-core<2.0dev,>=1.0.3 in /opt/conda/anaconda/lib/python3.6/site-packages (from google-cloud-bigquery>=1.9.0->pandas_gbq) (1.0.3)\n",
      "Requirement already satisfied: protobuf>=3.6.0 in /opt/conda/anaconda/lib/python3.6/site-packages (from google-cloud-bigquery>=1.9.0->pandas_gbq) (3.9.1)\n",
      "Requirement already satisfied: google-resumable-media>=0.3.1 in /opt/conda/anaconda/lib/python3.6/site-packages (from google-cloud-bigquery>=1.9.0->pandas_gbq) (0.3.2)\n",
      "Collecting requests-oauthlib>=0.7.0 (from google-auth-oauthlib->pandas_gbq)\n",
      "  Downloading https://files.pythonhosted.org/packages/c2/e2/9fd03d55ffb70fe51f587f20bcf407a6927eb121de86928b34d162f0b1ac/requests_oauthlib-1.2.0-py2.py3-none-any.whl\n",
      "Requirement already satisfied: pytz>=2017.2 in /opt/conda/anaconda/lib/python3.6/site-packages (from pandas>=0.19.0->pandas_gbq) (2019.2)\n",
      "Requirement already satisfied: python-dateutil>=2.6.1 in /opt/conda/anaconda/lib/python3.6/site-packages (from pandas>=0.19.0->pandas_gbq) (2.8.0)\n",
      "Requirement already satisfied: numpy>=1.13.3 in /opt/conda/anaconda/lib/python3.6/site-packages (from pandas>=0.19.0->pandas_gbq) (1.16.4)\n",
      "Requirement already satisfied: pyasn1>=0.1.3 in /opt/conda/anaconda/lib/python3.6/site-packages (from rsa>=3.1.4->google-auth->pandas_gbq) (0.4.6)\n",
      "Requirement already satisfied: google-api-core<2.0.0dev,>=1.14.0 in /opt/conda/anaconda/lib/python3.6/site-packages (from google-cloud-core<2.0dev,>=1.0.3->google-cloud-bigquery>=1.9.0->pandas_gbq) (1.14.2)\n",
      "Requirement already satisfied: oauthlib>=3.0.0 in /opt/conda/anaconda/lib/python3.6/site-packages (from requests-oauthlib>=0.7.0->google-auth-oauthlib->pandas_gbq) (3.0.2)\n",
      "Requirement already satisfied: requests>=2.0.0 in /opt/conda/anaconda/lib/python3.6/site-packages (from requests-oauthlib>=0.7.0->google-auth-oauthlib->pandas_gbq) (2.22.0)\n",
      "Requirement already satisfied: googleapis-common-protos<2.0dev,>=1.6.0 in /opt/conda/anaconda/lib/python3.6/site-packages (from google-api-core<2.0.0dev,>=1.14.0->google-cloud-core<2.0dev,>=1.0.3->google-cloud-bigquery>=1.9.0->pandas_gbq) (1.6.0)\n",
      "Requirement already satisfied: chardet<3.1.0,>=3.0.2 in /opt/conda/anaconda/lib/python3.6/site-packages (from requests>=2.0.0->requests-oauthlib>=0.7.0->google-auth-oauthlib->pandas_gbq) (3.0.4)\n",
      "Requirement already satisfied: urllib3!=1.25.0,!=1.25.1,<1.26,>=1.21.1 in /opt/conda/anaconda/lib/python3.6/site-packages (from requests>=2.0.0->requests-oauthlib>=0.7.0->google-auth-oauthlib->pandas_gbq) (1.24.2)\n",
      "Requirement already satisfied: certifi>=2017.4.17 in /opt/conda/anaconda/lib/python3.6/site-packages (from requests>=2.0.0->requests-oauthlib>=0.7.0->google-auth-oauthlib->pandas_gbq) (2019.6.16)\n",
      "Requirement already satisfied: idna<2.9,>=2.5 in /opt/conda/anaconda/lib/python3.6/site-packages (from requests>=2.0.0->requests-oauthlib>=0.7.0->google-auth-oauthlib->pandas_gbq) (2.8)\n",
      "Installing collected packages: requests-oauthlib, google-auth-oauthlib, pydata-google-auth, pandas-gbq\n",
      "Successfully installed google-auth-oauthlib-0.4.0 pandas-gbq-0.11.0 pydata-google-auth-0.1.3 requests-oauthlib-1.2.0\n",
      "Note: you may need to restart the kernel to use updated packages.\n"
     ]
    }
   ],
   "source": [
    "pip install pandas_gbq"
   ]
  },
  {
   "cell_type": "code",
   "execution_count": 6,
   "metadata": {},
   "outputs": [],
   "source": [
    "from google.cloud import bigquery\n",
    "import pandas"
   ]
  },
  {
   "cell_type": "code",
   "execution_count": 7,
   "metadata": {},
   "outputs": [],
   "source": [
    "df = pandas.DataFrame(\n",
    "    {\n",
    "        'my_string': ['a', 'b', 'c'],\n",
    "        'my_int64': [1, 2, 3],\n",
    "        'my_float64': [4.0, 5.0, 6.0],\n",
    "    }\n",
    ")\n",
    "full_table_id = 'lamdatacrew_clean_data.new_table_test3'\n",
    "project_id = 'hsbc-datathon-sandbox'\n",
    "\n",
    "df.to_gbq(full_table_id, project_id=project_id)"
   ]
  },
  {
   "cell_type": "code",
   "execution_count": 8,
   "metadata": {},
   "outputs": [],
   "source": [
    "%load_ext google.cloud.bigquery"
   ]
  },
  {
   "cell_type": "code",
   "execution_count": 9,
   "metadata": {},
   "outputs": [],
   "source": [
    "%%bigquery new_table_test3\n",
    "select * from `lamdatacrew_clean_data.new_table_test3`; "
   ]
  },
  {
   "cell_type": "code",
   "execution_count": 10,
   "metadata": {},
   "outputs": [
    {
     "data": {
      "text/html": [
       "<div>\n",
       "<style scoped>\n",
       "    .dataframe tbody tr th:only-of-type {\n",
       "        vertical-align: middle;\n",
       "    }\n",
       "\n",
       "    .dataframe tbody tr th {\n",
       "        vertical-align: top;\n",
       "    }\n",
       "\n",
       "    .dataframe thead th {\n",
       "        text-align: right;\n",
       "    }\n",
       "</style>\n",
       "<table border=\"1\" class=\"dataframe\">\n",
       "  <thead>\n",
       "    <tr style=\"text-align: right;\">\n",
       "      <th></th>\n",
       "      <th>my_string</th>\n",
       "      <th>my_int64</th>\n",
       "      <th>my_float64</th>\n",
       "    </tr>\n",
       "  </thead>\n",
       "  <tbody>\n",
       "    <tr>\n",
       "      <th>0</th>\n",
       "      <td>a</td>\n",
       "      <td>1</td>\n",
       "      <td>4.0</td>\n",
       "    </tr>\n",
       "    <tr>\n",
       "      <th>1</th>\n",
       "      <td>b</td>\n",
       "      <td>2</td>\n",
       "      <td>5.0</td>\n",
       "    </tr>\n",
       "    <tr>\n",
       "      <th>2</th>\n",
       "      <td>c</td>\n",
       "      <td>3</td>\n",
       "      <td>6.0</td>\n",
       "    </tr>\n",
       "  </tbody>\n",
       "</table>\n",
       "</div>"
      ],
      "text/plain": [
       "  my_string  my_int64  my_float64\n",
       "0         a         1         4.0\n",
       "1         b         2         5.0\n",
       "2         c         3         6.0"
      ]
     },
     "execution_count": 10,
     "metadata": {},
     "output_type": "execute_result"
    }
   ],
   "source": [
    "new_table_test3"
   ]
  },
  {
   "cell_type": "code",
   "execution_count": null,
   "metadata": {},
   "outputs": [],
   "source": []
  }
 ],
 "metadata": {
  "kernelspec": {
   "display_name": "PySpark",
   "language": "python",
   "name": "pyspark"
  },
  "language_info": {
   "codemirror_mode": {
    "name": "ipython",
    "version": 3
   },
   "file_extension": ".py",
   "mimetype": "text/x-python",
   "name": "python",
   "nbconvert_exporter": "python",
   "pygments_lexer": "ipython3",
   "version": "3.6.9"
  }
 },
 "nbformat": 4,
 "nbformat_minor": 2
}