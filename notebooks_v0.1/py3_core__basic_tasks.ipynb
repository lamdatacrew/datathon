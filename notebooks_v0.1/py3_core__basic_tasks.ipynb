{
 "cells": [
  {
   "cell_type": "code",
   "execution_count": 1,
   "metadata": {},
   "outputs": [
    {
     "name": "stdout",
     "output_type": "stream",
     "text": [
      "Collecting fasttext\n",
      "\u001b[?25l  Downloading https://files.pythonhosted.org/packages/10/61/2e01f1397ec533756c1d893c22d9d5ed3fce3a6e4af1976e0d86bb13ea97/fasttext-0.9.1.tar.gz (57kB)\n",
      "\u001b[K     |████████████████████████████████| 61kB 15.3MB/s \n",
      "\u001b[?25hRequirement already satisfied: pybind11>=2.2 in /opt/conda/anaconda/lib/python3.6/site-packages (from fasttext) (2.3.0)\n",
      "Requirement already satisfied: setuptools>=0.7.0 in /opt/conda/anaconda/lib/python3.6/site-packages (from fasttext) (41.0.1)\n",
      "Requirement already satisfied: numpy in /opt/conda/anaconda/lib/python3.6/site-packages (from fasttext) (1.16.4)\n",
      "Building wheels for collected packages: fasttext\n",
      "  Building wheel for fasttext (setup.py) ... \u001b[?25ldone\n",
      "\u001b[?25h  Created wheel for fasttext: filename=fasttext-0.9.1-cp36-cp36m-linux_x86_64.whl size=2464078 sha256=8cc56051a152b8a326d4769c299903724d414b1cc4af9beb79436fda09dd81c6\n",
      "  Stored in directory: /root/.cache/pip/wheels/9f/f0/04/caa82c912aee89ce76358ff954f3f0729b7577c8ff23a292e3\n",
      "Successfully built fasttext\n",
      "Installing collected packages: fasttext\n",
      "Successfully installed fasttext-0.9.1\n",
      "Note: you may need to restart the kernel to use updated packages.\n"
     ]
    }
   ],
   "source": [
    "pip install fasttext"
   ]
  },
  {
   "cell_type": "code",
   "execution_count": 2,
   "metadata": {},
   "outputs": [],
   "source": [
    "import fasttext \n",
    "import scipy.spatial.distance\n",
    "import numpy as np\n",
    "import re\n",
    "import smtplib"
   ]
  },
  {
   "cell_type": "code",
   "execution_count": 3,
   "metadata": {},
   "outputs": [
    {
     "name": "stdout",
     "output_type": "stream",
     "text": [
      "--2019-09-12 22:37:46--  https://dl.fbaipublicfiles.com/fasttext/supervised-models/yahoo_answers.bin\n",
      "Resolving dl.fbaipublicfiles.com (dl.fbaipublicfiles.com)... 104.20.6.166, 104.20.22.166, 2606:4700:10::6814:16a6, ...\n",
      "Connecting to dl.fbaipublicfiles.com (dl.fbaipublicfiles.com)|104.20.6.166|:443... connected.\n",
      "HTTP request sent, awaiting response... 200 OK\n",
      "Length: 517549567 (494M) [application/octet-stream]\n",
      "Saving to: ‘yahoo_answers.bin’\n",
      "\n",
      "yahoo_answers.bin   100%[===================>] 493.57M  26.0MB/s    in 20s     \n",
      "\n",
      "2019-09-12 22:38:07 (24.7 MB/s) - ‘yahoo_answers.bin’ saved [517549567/517549567]\n",
      "\n"
     ]
    }
   ],
   "source": [
    "!wget https://dl.fbaipublicfiles.com/fasttext/supervised-models/yahoo_answers.bin"
   ]
  },
  {
   "cell_type": "code",
   "execution_count": 4,
   "metadata": {},
   "outputs": [],
   "source": [
    "!mv yahoo_answers.bin /home/"
   ]
  },
  {
   "cell_type": "code",
   "execution_count": 7,
   "metadata": {},
   "outputs": [
    {
     "name": "stdout",
     "output_type": "stream",
     "text": [
      "copyToLocal: `gs://bucket-lam-data-crew/notebooks/jupyter/src_spark_test/email.txt': No such file or directory\n"
     ]
    }
   ],
   "source": [
    "#use hadoop fs command to make it available for the cluster\n",
    "#because the cloud bucket \n",
    "# the jupyter notebook only works with the local disk (master)\n",
    "#so, copy the file form the hadoop file system to the local disk for Juyter note book visibility\n",
    "#!hadoop fs -copyToLocal \"gs://notebooks/jupyter/email.txt\" /home/\n",
    "!hadoop fs -copyToLocal \"gs://bucket-lam-data-crew/notebooks/jupyter/src_spark_test/email.txt\" /home/"
   ]
  },
  {
   "cell_type": "code",
   "execution_count": 8,
   "metadata": {},
   "outputs": [
    {
     "name": "stderr",
     "output_type": "stream",
     "text": [
      "\n"
     ]
    }
   ],
   "source": [
    "model = fasttext.load_model(\"/home/yahoo_answers.bin\")"
   ]
  },
  {
   "cell_type": "code",
   "execution_count": null,
   "metadata": {},
   "outputs": [],
   "source": []
  }
 ],
 "metadata": {
  "kernelspec": {
   "display_name": "Python 3",
   "language": "python",
   "name": "python3"
  },
  "language_info": {
   "codemirror_mode": {
    "name": "ipython",
    "version": 3
   },
   "file_extension": ".py",
   "mimetype": "text/x-python",
   "name": "python",
   "nbconvert_exporter": "python",
   "pygments_lexer": "ipython3",
   "version": "3.6.9"
  }
 },
 "nbformat": 4,
 "nbformat_minor": 2
}